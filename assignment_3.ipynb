{
 "cells": [
  {
   "cell_type": "code",
   "execution_count": 90,
   "metadata": {},
   "outputs": [],
   "source": [
    "import numpy as np\n",
    "import math as m"
   ]
  },
  {
   "cell_type": "code",
   "execution_count": 91,
   "metadata": {},
   "outputs": [
    {
     "name": "stdout",
     "output_type": "stream",
     "text": [
      "[[-0.26794919 -4.46410162]]\n"
     ]
    }
   ],
   "source": [
    "#prob 1\n",
    "x=2\n",
    "y=-4\n",
    "a=[[x,y]]\n",
    "p= m.pi/6\n",
    "q=m.cos(p)\n",
    "r=m.sin(p)\n",
    "b=[[q,-r],[r,q]]\n",
    "matrix=np.dot(a,b)\n",
    "print(matrix)\n"
   ]
  },
  {
   "cell_type": "code",
   "execution_count": 92,
   "metadata": {},
   "outputs": [
    {
     "name": "stdout",
     "output_type": "stream",
     "text": [
      "[[ 3.73205081 -2.46410162]]\n"
     ]
    }
   ],
   "source": [
    "#prob 2\n",
    "x=2\n",
    "y=-4\n",
    "a=[[x,y]]\n",
    "p= m.pi/6\n",
    "q=m.cos(p)\n",
    "r=m.sin(p)\n",
    "\n",
    "b=[[q,r],[-r,q]]\n",
    "\n",
    "matrix=np.dot(a,b)\n",
    "print(matrix)\n"
   ]
  },
  {
   "cell_type": "code",
   "execution_count": 93,
   "metadata": {},
   "outputs": [
    {
     "name": "stdout",
     "output_type": "stream",
     "text": [
      "[[ 0 -4]]\n"
     ]
    }
   ],
   "source": [
    "#prob 3\n",
    "x=2\n",
    "y=-4\n",
    "a=[[x,y]]\n",
    "sx=0\n",
    "yx=1\n",
    "b=[[sx,0],[0,yx]]\n",
    "\n",
    "matrix=np.dot(a,b)\n",
    "print(matrix)\n"
   ]
  },
  {
   "cell_type": "code",
   "execution_count": 94,
   "metadata": {},
   "outputs": [
    {
     "name": "stdout",
     "output_type": "stream",
     "text": [
      "[[2 0]]\n"
     ]
    }
   ],
   "source": [
    "#prob 4\n",
    "x=2\n",
    "y=-4\n",
    "a=[[x,y]]\n",
    "sx=1\n",
    "yx=0\n",
    "b=[[sx,0],[0,yx]]\n",
    "\n",
    "matrix=np.dot(a,b)\n",
    "print(matrix)\n"
   ]
  },
  {
   "cell_type": "code",
   "execution_count": 95,
   "metadata": {},
   "outputs": [
    {
     "name": "stdout",
     "output_type": "stream",
     "text": [
      "[[0 0]]\n"
     ]
    }
   ],
   "source": [
    "#prob 5\n",
    "x=2\n",
    "y=-4\n",
    "a=[[x,y]]\n",
    "sx=0\n",
    "yx=0\n",
    "b=[[sx,0],[0,yx]]\n",
    "\n",
    "matrix=np.dot(a,b)\n",
    "print(matrix)\n"
   ]
  },
  {
   "cell_type": "code",
   "execution_count": 96,
   "metadata": {},
   "outputs": [
    {
     "name": "stdout",
     "output_type": "stream",
     "text": [
      "[[ 2 -4]]\n"
     ]
    }
   ],
   "source": [
    "#prob 6\n",
    "x=2\n",
    "y=-4\n",
    "a=[[x,y]]\n",
    "sx=1\n",
    "yx=1\n",
    "b=[[sx,0],[0,yx]]\n",
    "\n",
    "matrix=np.dot(a,b)\n",
    "print(matrix)\n"
   ]
  },
  {
   "cell_type": "code",
   "execution_count": 97,
   "metadata": {},
   "outputs": [
    {
     "name": "stdout",
     "output_type": "stream",
     "text": [
      "[[ 2 -3]]\n"
     ]
    }
   ],
   "source": [
    "#prob 7\n",
    "x=2\n",
    "y=-4\n",
    "a=[[x, y]]\n",
    "tx=0\n",
    "ty=1\n",
    "b=[[tx,ty]]\n",
    "\n",
    "matrix=np.add(a,b)\n",
    "print(matrix)\n"
   ]
  },
  {
   "cell_type": "code",
   "execution_count": 98,
   "metadata": {},
   "outputs": [
    {
     "name": "stdout",
     "output_type": "stream",
     "text": [
      "[[ 3 -4]]\n"
     ]
    }
   ],
   "source": [
    "#prob 8\n",
    "x=2\n",
    "y=-4\n",
    "a=[[x, y]]\n",
    "tx=1\n",
    "ty=0\n",
    "b=[[tx,ty]]\n",
    "\n",
    "matrix=np.add(a,b)\n",
    "print(matrix)\n",
    "\n"
   ]
  },
  {
   "cell_type": "code",
   "execution_count": 99,
   "metadata": {},
   "outputs": [
    {
     "name": "stdout",
     "output_type": "stream",
     "text": [
      "[[ 3 -3]]\n"
     ]
    }
   ],
   "source": [
    "#prob 9\n",
    "x=2\n",
    "y=-4\n",
    "a=[[x, y]]\n",
    "tx=1\n",
    "ty=1\n",
    "b=[[tx,ty]]\n",
    "\n",
    "matrix=np.add(a,b)\n",
    "print(matrix)\n"
   ]
  },
  {
   "cell_type": "code",
   "execution_count": 100,
   "metadata": {},
   "outputs": [
    {
     "name": "stdout",
     "output_type": "stream",
     "text": [
      "[[ 2 -4]]\n"
     ]
    }
   ],
   "source": [
    "#prob 10\n",
    "x=2\n",
    "y=-4\n",
    "a=[[x, y]]\n",
    "tx=0\n",
    "ty=0\n",
    "b=[[tx,ty]]\n",
    "\n",
    "matrix=np.add(a,b)\n",
    "print(matrix)\n"
   ]
  }
 ],
 "metadata": {
  "kernelspec": {
   "display_name": "Python 3",
   "language": "python",
   "name": "python3"
  },
  "language_info": {
   "codemirror_mode": {
    "name": "ipython",
    "version": 3
   },
   "file_extension": ".py",
   "mimetype": "text/x-python",
   "name": "python",
   "nbconvert_exporter": "python",
   "pygments_lexer": "ipython3",
   "version": "3.6.3"
  }
 },
 "nbformat": 4,
 "nbformat_minor": 2
}
